{
 "cells": [
  {
   "cell_type": "code",
   "execution_count": 4,
   "id": "f6541a05-a726-48a9-a163-7a0676861433",
   "metadata": {},
   "outputs": [],
   "source": [
    "import numpy as np"
   ]
  },
  {
   "cell_type": "code",
   "execution_count": 5,
   "id": "bdfb6157-7470-4bbb-8080-804e18626d43",
   "metadata": {},
   "outputs": [],
   "source": [
    "python_array = [0, 1, 2]"
   ]
  },
  {
   "cell_type": "code",
   "execution_count": 6,
   "id": "99240c6b-7c9d-4be4-aade-313ce1d59179",
   "metadata": {},
   "outputs": [],
   "source": [
    "np_array = np.array(python_array)"
   ]
  },
  {
   "cell_type": "code",
   "execution_count": 7,
   "id": "1259df63-7c9a-465f-a411-f0462ee30757",
   "metadata": {},
   "outputs": [
    {
     "data": {
      "text/plain": [
       "array([0, 1, 2])"
      ]
     },
     "execution_count": 7,
     "metadata": {},
     "output_type": "execute_result"
    }
   ],
   "source": [
    "np_array"
   ]
  },
  {
   "cell_type": "code",
   "execution_count": 8,
   "id": "e4d25add-62f1-432e-9b21-998233ee7e58",
   "metadata": {},
   "outputs": [
    {
     "data": {
      "text/plain": [
       "[0, 1, 2]"
      ]
     },
     "execution_count": 8,
     "metadata": {},
     "output_type": "execute_result"
    }
   ],
   "source": [
    "python_array"
   ]
  },
  {
   "cell_type": "code",
   "execution_count": 11,
   "id": "4c31c2fe-6a13-4f60-af14-6f3b0c0ec101",
   "metadata": {},
   "outputs": [
    {
     "data": {
      "text/plain": [
       "array([0, 2, 4, 6, 8])"
      ]
     },
     "execution_count": 11,
     "metadata": {},
     "output_type": "execute_result"
    }
   ],
   "source": [
    "np.arange(0, 10, 2)"
   ]
  },
  {
   "cell_type": "code",
   "execution_count": 13,
   "id": "68db05f8-d494-432b-881f-6d2efb2ba7b6",
   "metadata": {},
   "outputs": [
    {
     "data": {
      "text/plain": [
       "array([[0., 0., 0.],\n",
       "       [0., 0., 0.]])"
      ]
     },
     "execution_count": 13,
     "metadata": {},
     "output_type": "execute_result"
    }
   ],
   "source": [
    "np.zeros((2, 3))"
   ]
  },
  {
   "cell_type": "code",
   "execution_count": 15,
   "id": "bab2ccc4-83fd-4b4e-a059-ad7a3fa7b146",
   "metadata": {},
   "outputs": [
    {
     "data": {
      "text/plain": [
       "array([0.        , 0.26315789, 0.52631579, 0.78947368, 1.05263158,\n",
       "       1.31578947, 1.57894737, 1.84210526, 2.10526316, 2.36842105,\n",
       "       2.63157895, 2.89473684, 3.15789474, 3.42105263, 3.68421053,\n",
       "       3.94736842, 4.21052632, 4.47368421, 4.73684211, 5.        ])"
      ]
     },
     "execution_count": 15,
     "metadata": {},
     "output_type": "execute_result"
    }
   ],
   "source": [
    "np.linspace(0, 5, 20) # 20 evenly spaced points between 0 and 5"
   ]
  },
  {
   "cell_type": "code",
   "execution_count": 17,
   "id": "a6496d75-0fb7-4d17-8476-cb29f3231df3",
   "metadata": {},
   "outputs": [
    {
     "data": {
      "text/plain": [
       "array([[1., 0., 0., 0., 0.],\n",
       "       [0., 1., 0., 0., 0.],\n",
       "       [0., 0., 1., 0., 0.],\n",
       "       [0., 0., 0., 1., 0.],\n",
       "       [0., 0., 0., 0., 1.]])"
      ]
     },
     "execution_count": 17,
     "metadata": {},
     "output_type": "execute_result"
    }
   ],
   "source": [
    "np.eye(5) # identity matrix"
   ]
  },
  {
   "cell_type": "code",
   "execution_count": 18,
   "id": "430a32b1-0da2-47d7-a8c8-38675286df44",
   "metadata": {},
   "outputs": [
    {
     "data": {
      "text/plain": [
       "array([0.15400744, 0.94417046, 0.60904463, 0.48607069, 0.91535637])"
      ]
     },
     "execution_count": 18,
     "metadata": {},
     "output_type": "execute_result"
    }
   ],
   "source": [
    "np.random.rand(5)"
   ]
  },
  {
   "cell_type": "code",
   "execution_count": 21,
   "id": "ed9e2d3c-600b-4919-af63-0696dc63c7fd",
   "metadata": {},
   "outputs": [
    {
     "data": {
      "text/plain": [
       "array([-0.54389851, -0.01747647,  0.39154463,  1.01654524, -0.17249934])"
      ]
     },
     "execution_count": 21,
     "metadata": {},
     "output_type": "execute_result"
    }
   ],
   "source": [
    "np.random.randn(5) # normal distribution around 0"
   ]
  },
  {
   "cell_type": "code",
   "execution_count": 25,
   "id": "f9a66362-c0e7-4184-82bb-520c9cc4e23f",
   "metadata": {},
   "outputs": [],
   "source": [
    "random_arr = np.random.randint(1, 100, 9)"
   ]
  },
  {
   "cell_type": "code",
   "execution_count": 28,
   "id": "5f4ba94f-b9fd-4a55-91d0-4d7d5e61cf91",
   "metadata": {},
   "outputs": [],
   "source": [
    "reshaped = random_arr.reshape(3, 3)"
   ]
  },
  {
   "cell_type": "code",
   "execution_count": 30,
   "id": "c7a84050-c8ce-468a-9080-1cfebe7f2027",
   "metadata": {},
   "outputs": [
    {
     "data": {
      "text/plain": [
       "(3, 3)"
      ]
     },
     "execution_count": 30,
     "metadata": {},
     "output_type": "execute_result"
    }
   ],
   "source": [
    "reshaped.shape"
   ]
  },
  {
   "cell_type": "code",
   "execution_count": 31,
   "id": "ec594d54-53aa-48d1-8a20-3d059c2bc0c0",
   "metadata": {},
   "outputs": [
    {
     "data": {
      "text/plain": [
       "dtype('int64')"
      ]
     },
     "execution_count": 31,
     "metadata": {},
     "output_type": "execute_result"
    }
   ],
   "source": [
    "reshaped.dtype"
   ]
  },
  {
   "cell_type": "code",
   "execution_count": null,
   "id": "b5d23b1f-0e77-4d18-97f3-274541066cf0",
   "metadata": {},
   "outputs": [],
   "source": []
  }
 ],
 "metadata": {
  "kernelspec": {
   "display_name": "Python 3 (ipykernel)",
   "language": "python",
   "name": "python3"
  },
  "language_info": {
   "codemirror_mode": {
    "name": "ipython",
    "version": 3
   },
   "file_extension": ".py",
   "mimetype": "text/x-python",
   "name": "python",
   "nbconvert_exporter": "python",
   "pygments_lexer": "ipython3",
   "version": "3.10.6"
  }
 },
 "nbformat": 4,
 "nbformat_minor": 5
}
